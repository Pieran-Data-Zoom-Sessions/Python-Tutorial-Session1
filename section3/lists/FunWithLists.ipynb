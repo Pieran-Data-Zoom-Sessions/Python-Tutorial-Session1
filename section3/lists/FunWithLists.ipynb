{
 "cells": [
  {
   "cell_type": "markdown",
   "metadata": {},
   "source": [
    "# Fun with Lists "
   ]
  },
  {
   "cell_type": "markdown",
   "metadata": {},
   "source": [
    "## The Fast Food Problem \n",
    "\n",
    "We just created a new fast-food restaurant and we want to make it simple for customers to get their total cost for whatever they order without relying on someone to take their order. \n",
    "\n",
    "Let's take a simple approach of just two items on the menu:\n",
    "\n",
    "1. Pizza (2 dollars)\n",
    "2. Burger (3 dollars)\n",
    "\n",
    "\n",
    "\n"
   ]
  },
  {
   "cell_type": "markdown",
   "metadata": {},
   "source": [
    "### Solution 1: No Lists At All "
   ]
  },
  {
   "cell_type": "code",
   "execution_count": 1,
   "metadata": {},
   "outputs": [
    {
     "name": "stdout",
     "output_type": "stream",
     "text": [
      "Hello sir, how many pizzas do you want?: 3\n",
      "Hello sir, how many burgers do you want?: 2\n",
      "12\n"
     ]
    }
   ],
   "source": [
    "# Solve the problem with just variables\n",
    "\n",
    "n_pizza = int(input(\"Hello sir, how many pizzas do you want?: \"))  \n",
    "price_pizza = 2\n",
    "price_burgers = 3\n",
    "n_burgers = int(input(\"Hello sir, how many burgers do you want?: \")) \n",
    "\n",
    "# Get the total \n",
    "\n",
    "total = n_pizza * price_pizza + price_burgers * n_burgers \n",
    "\n",
    "print(total) "
   ]
  },
  {
   "cell_type": "markdown",
   "metadata": {},
   "source": [
    "### Solution 2: With Lists \n",
    "\n",
    "\n",
    "Using the sum() function :\n",
    "\n",
    "$$ list_i = [1,2,3,4,5] $$\n",
    "$$  sum(list) = \\sum_{0}^{n}{i} = 1 + 2 + 3 + 4 + 5  $$"
   ]
  },
  {
   "cell_type": "code",
   "execution_count": 4,
   "metadata": {},
   "outputs": [
    {
     "name": "stdout",
     "output_type": "stream",
     "text": [
      "12\n"
     ]
    }
   ],
   "source": [
    "# Create an empty list \n",
    "\n",
    "total = [] \n",
    "\n",
    "# Adding things to the list \n",
    "\n",
    "product_pizza = n_pizza * price_pizza \n",
    "product_burgers = n_burgers * price_burgers \n",
    "\n",
    "total.append(product_pizza)\n",
    "total.append(product_burgers) \n",
    "\n",
    "# using the sum function\n",
    "print(sum(total))  "
   ]
  },
  {
   "cell_type": "markdown",
   "metadata": {},
   "source": [
    "### Introducing a Dictionary to the Problem: Dealing with Tax "
   ]
  },
  {
   "cell_type": "code",
   "execution_count": 14,
   "metadata": {},
   "outputs": [
    {
     "name": "stdout",
     "output_type": "stream",
     "text": [
      "What state are you in?: Texas \n",
      "12.96\n"
     ]
    }
   ],
   "source": [
    "taxRates = {'california': 0.075, 'texas': 0.08, 'new york': 0.10, 'nevada': 0.095} \n",
    "\n",
    "userInput = input(\"What state are you in?: \").lower().replace(' ', '')   \n",
    "\n",
    "newTotal = (1 + taxRates[userInput])*sum(total) \n",
    "\n",
    "print(round(newTotal, 2))     "
   ]
  },
  {
   "cell_type": "code",
   "execution_count": null,
   "metadata": {},
   "outputs": [],
   "source": []
  }
 ],
 "metadata": {
  "kernelspec": {
   "display_name": "Python 3",
   "language": "python",
   "name": "python3"
  },
  "language_info": {
   "codemirror_mode": {
    "name": "ipython",
    "version": 3
   },
   "file_extension": ".py",
   "mimetype": "text/x-python",
   "name": "python",
   "nbconvert_exporter": "python",
   "pygments_lexer": "ipython3",
   "version": "3.6.4"
  },
  "latex_envs": {
   "LaTeX_envs_menu_present": true,
   "autoclose": false,
   "autocomplete": true,
   "bibliofile": "biblio.bib",
   "cite_by": "apalike",
   "current_citInitial": 1,
   "eqLabelWithNumbers": true,
   "eqNumInitial": 1,
   "hotkeys": {
    "equation": "Ctrl-E",
    "itemize": "Ctrl-I"
   },
   "labels_anchors": false,
   "latex_user_defs": false,
   "report_style_numbering": false,
   "user_envs_cfg": false
  },
  "nbTranslate": {
   "displayLangs": [
    "*"
   ],
   "hotkey": "alt-t",
   "langInMainMenu": true,
   "sourceLang": "en",
   "targetLang": "fr",
   "useGoogleTranslate": true
  },
  "toc": {
   "base_numbering": 1,
   "nav_menu": {},
   "number_sections": true,
   "sideBar": true,
   "skip_h1_title": false,
   "title_cell": "Table of Contents",
   "title_sidebar": "Contents",
   "toc_cell": false,
   "toc_position": {},
   "toc_section_display": true,
   "toc_window_display": false
  }
 },
 "nbformat": 4,
 "nbformat_minor": 2
}
