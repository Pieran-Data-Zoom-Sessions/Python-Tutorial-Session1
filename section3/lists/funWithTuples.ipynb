{
 "cells": [
  {
   "cell_type": "markdown",
   "metadata": {},
   "source": [
    "# Fun with Tuples "
   ]
  },
  {
   "cell_type": "markdown",
   "metadata": {},
   "source": [
    "Distance Formula:\n",
    "\n",
    "$$ D = \\sqrt{(x_2 - x_1)^2 + (y_2 - y_1)^2 } $$ \n",
    "\n",
    "Writing a square root as an exponent:\n",
    "\n",
    "$$ \\sqrt{2} = 2^{\\frac{1}{2}} $$ "
   ]
  },
  {
   "cell_type": "code",
   "execution_count": 5,
   "metadata": {},
   "outputs": [
    {
     "name": "stdout",
     "output_type": "stream",
     "text": [
      "Put in your first x value: 10\n",
      "Put in your first y value30\n",
      "Put in your second x value: 40\n",
      "Put in your second y value50\n",
      "10.0\n"
     ]
    }
   ],
   "source": [
    "coordinate1 = (float(input(\"Put in your first x value: \")), float(input(\"Put in your first y value\")))\n",
    "coordinate2 = (float(input(\"Put in your second x value: \")), float(input(\"Put in your second y value\")))\n",
    "\n",
    "listPoints = (coordinate1, coordinate2) \n",
    "distance = ((listPoints[1][0] - listPoints[0][0])**2 + (listPoints[1][1] - listPoints[0][0])**2)\n",
    "# distance1 = ((coordinate2[0] - coordinate1[0])**2 + (coordinate2[1] - coordinate1[1])**2)**0.5 \n",
    "# print(round(distance1,2))  "
   ]
  },
  {
   "cell_type": "code",
   "execution_count": 10,
   "metadata": {},
   "outputs": [
    {
     "name": "stdout",
     "output_type": "stream",
     "text": [
      "The person is your neighbor!\n"
     ]
    }
   ],
   "source": [
    "if distance < 5 and listPoints[1][1] > 10:\n",
    "    print(\"The person is your neighbor!\")\n",
    "else:\n",
    "    print(\"The person is not your neighbor :( \") \n"
   ]
  },
  {
   "cell_type": "code",
   "execution_count": null,
   "metadata": {},
   "outputs": [],
   "source": []
  }
 ],
 "metadata": {
  "kernelspec": {
   "display_name": "Python 3",
   "language": "python",
   "name": "python3"
  },
  "language_info": {
   "codemirror_mode": {
    "name": "ipython",
    "version": 3
   },
   "file_extension": ".py",
   "mimetype": "text/x-python",
   "name": "python",
   "nbconvert_exporter": "python",
   "pygments_lexer": "ipython3",
   "version": "3.6.4"
  },
  "latex_envs": {
   "LaTeX_envs_menu_present": true,
   "autoclose": false,
   "autocomplete": true,
   "bibliofile": "biblio.bib",
   "cite_by": "apalike",
   "current_citInitial": 1,
   "eqLabelWithNumbers": true,
   "eqNumInitial": 1,
   "hotkeys": {
    "equation": "Ctrl-E",
    "itemize": "Ctrl-I"
   },
   "labels_anchors": false,
   "latex_user_defs": false,
   "report_style_numbering": false,
   "user_envs_cfg": false
  },
  "nbTranslate": {
   "displayLangs": [
    "*"
   ],
   "hotkey": "alt-t",
   "langInMainMenu": true,
   "sourceLang": "en",
   "targetLang": "fr",
   "useGoogleTranslate": true
  },
  "toc": {
   "base_numbering": 1,
   "nav_menu": {},
   "number_sections": true,
   "sideBar": true,
   "skip_h1_title": false,
   "title_cell": "Table of Contents",
   "title_sidebar": "Contents",
   "toc_cell": false,
   "toc_position": {},
   "toc_section_display": true,
   "toc_window_display": false
  }
 },
 "nbformat": 4,
 "nbformat_minor": 2
}
